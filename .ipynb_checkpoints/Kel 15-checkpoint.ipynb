{
 "cells": [
  {
   "cell_type": "markdown",
   "id": "314e95b5",
   "metadata": {},
   "source": [
    "proyek dari sini\n"
   ]
  },
  {
   "cell_type": "code",
   "execution_count": 1,
   "id": "a7a71821",
   "metadata": {},
   "outputs": [],
   "source": [
    "import os\n",
    "import cv2\n",
    "import numpy as np\n",
    "from sklearn.model_selection import train_test_split\n",
    "from sklearn.ensemble import RandomForestClassifier\n",
    "from sklearn.metrics import accuracy_score\n",
    "\n",
    "def read_images_from_folder(folder):\n",
    "    images = []\n",
    "    labels = []\n",
    "    for label, class_folder in enumerate(os.listdir(folder)):\n",
    "        class_path = os.path.join(folder, class_folder)\n",
    "        for filename in os.listdir(class_path):\n",
    "            img_path = os.path.join(class_path, filename)\n",
    "            img = cv2.imread(img_path)\n",
    "            img = cv2.resize(img, (100, 100))  # Sesuaikan ukuran gambar\n",
    "            images.append(img)\n",
    "            labels.append(label)\n",
    "    return np.array(images), np.array(labels)\n"
   ]
  },
  {
   "cell_type": "code",
   "execution_count": 4,
   "id": "03118bab",
   "metadata": {},
   "outputs": [],
   "source": [
    "folder_path = \"CLASIFICATION SAMPAH/train/\"\n",
    "images, labels = read_images_from_folder(folder_path)\n"
   ]
  },
  {
   "cell_type": "code",
   "execution_count": null,
   "id": "ff3e819d",
   "metadata": {},
   "outputs": [],
   "source": [
    "X_train, X_test, y_train, y_test = train_test_split(images, labels, test_size=0.2, random_state=42)\n"
   ]
  },
  {
   "cell_type": "code",
   "execution_count": null,
   "id": "53485328",
   "metadata": {},
   "outputs": [],
   "source": [
    "rf_model = RandomForestClassifier(n_estimators=100, random_state=42)\n",
    "rf_model.fit(X_train.reshape(X_train.shape[0], -1), y_train)\n"
   ]
  },
  {
   "cell_type": "code",
   "execution_count": null,
   "id": "bcde94bf",
   "metadata": {},
   "outputs": [],
   "source": [
    "y_pred = rf_model.predict(X_test.reshape(X_test.shape[0], -1))\n"
   ]
  },
  {
   "cell_type": "code",
   "execution_count": null,
   "id": "fea69a59",
   "metadata": {},
   "outputs": [],
   "source": [
    "accuracy = accuracy_score(y_test, y_pred)\n",
    "print(\"Accuracy:\", accuracy)"
   ]
  },
  {
   "cell_type": "code",
   "execution_count": null,
   "id": "5691e3f6",
   "metadata": {},
   "outputs": [],
   "source": [
    "def evaluate_model(model, test_folder):\n",
    "    test_images, test_labels = read_images_from_folder(test_folder)\n",
    "    test_predictions = model.predict(test_images.reshape(test_images.shape[0], -1))\n",
    "    \n",
    "    accuracy = accuracy_score(test_labels, test_predictions)\n",
    "    print(\"Test Accuracy:\", accuracy)\n",
    "\n",
    "# Gantilah path sesuai dengan struktur folder di sistem Anda\n",
    "test_folder_path = \"CLASIFICATION SAMPAH/test/\"\n",
    "\n",
    "# Evaluasi model pada data uji\n",
    "evaluate_model(rf_model, test_folder_path)\n"
   ]
  },
  {
   "cell_type": "code",
   "execution_count": null,
   "id": "7bde3e0c",
   "metadata": {},
   "outputs": [],
   "source": [
    "def predict_image_category(model, image_path):\n",
    "    # Baca dan preprocessing gambar\n",
    "    img = cv2.imread(image_path)\n",
    "    img = cv2.resize(img, (100, 100))  # Sesuaikan ukuran gambar\n",
    "    img = img.reshape(1, -1)\n",
    "\n",
    "    # Lakukan prediksi\n",
    "    prediction = model.predict(img)\n",
    "\n",
    "    return prediction[0]\n",
    "\n",
    "# Gantilah path sesuai dengan lokasi gambar yang ingin Anda uji\n",
    "image_to_predict_path = \"CLASIFICATION SAMPAH/test/odol/81.jpg\"\n",
    "\n",
    "# Melakukan prediksi\n",
    "predicted_category = predict_image_category(rf_model, image_to_predict_path)\n",
    "\n",
    "# Mengonversi label prediksi ke kategori yang sesuai\n",
    "categories = [\"odol\", \"sabun\", \"shampo\"]\n",
    "predicted_category_name = categories[predicted_category]\n",
    "\n",
    "print(\"Predicted Category:\", predicted_category_name)\n"
   ]
  },
  {
   "cell_type": "code",
   "execution_count": null,
   "id": "29fdc868",
   "metadata": {},
   "outputs": [],
   "source": []
  }
 ],
 "metadata": {
  "kernelspec": {
   "display_name": "Python 3 (ipykernel)",
   "language": "python",
   "name": "python3"
  },
  "language_info": {
   "codemirror_mode": {
    "name": "ipython",
    "version": 3
   },
   "file_extension": ".py",
   "mimetype": "text/x-python",
   "name": "python",
   "nbconvert_exporter": "python",
   "pygments_lexer": "ipython3",
   "version": "3.11.4"
  }
 },
 "nbformat": 4,
 "nbformat_minor": 5
}
